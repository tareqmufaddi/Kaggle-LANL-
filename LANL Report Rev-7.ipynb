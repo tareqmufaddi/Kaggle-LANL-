{
 "cells": [
  {
   "cell_type": "code",
   "execution_count": 12,
   "metadata": {},
   "outputs": [],
   "source": [
    "import pandas as pd\n",
    "import numpy as np\n",
    "from scipy.stats import tmean\n",
    "import dautil as dl\n",
    "from scipy.stats import iqr,kurtosis,skew\n",
    "from statistics import mode\n",
    "from scipy.fftpack import fft, fftfreq\n",
    "from scipy import signal\n",
    "from scipy import stats\n",
    "from scipy.signal import butter, filtfilt, lfilter\n",
    "from sklearn.linear_model import LinearRegression"
   ]
  },
  {
   "cell_type": "code",
   "execution_count": 2,
   "metadata": {},
   "outputs": [],
   "source": [
    "train_df = pd.read_csv('../input/train.csv', dtype={'acoustic_data': np.int16, 'time_to_failure': np.float32})"
   ]
  },
  {
   "cell_type": "markdown",
   "metadata": {},
   "source": [
    "#### C. Benchmark Model:"
   ]
  },
  {
   "cell_type": "code",
   "execution_count": 288,
   "metadata": {},
   "outputs": [
    {
     "name": "stdout",
     "output_type": "stream",
     "text": [
      "Number of segments:  4194\n"
     ]
    }
   ],
   "source": [
    "rows = 150000\n",
    "segments = int(np.floor(train_df.shape[0] / rows))\n",
    "print(\"Number of segments: \", segments)"
   ]
  },
  {
   "cell_type": "code",
   "execution_count": 4,
   "metadata": {},
   "outputs": [],
   "source": [
    "nsample = 150_090\n",
    "sampling=4e6\n",
    "dt = 1.0 / sampling\n",
    "T = nsample * dt\n",
    "\n",
    "# Ref. https://books.google.jo/books?id=nZWqDQAAQBAJ&pg=PA109&lpg=PA109&dq=IQM+python&source=bl&ots=7t0Zof3DwM&sig=ACfU3U34jWFxFitcRCNM_ga-N0wyH28d8A&hl=en&sa=X&ved=2ahUKEwiwwLDK_ZThAhVKWxoKHSyLAkwQ6AEwBHoECAgQAQ#v=onepage&q=IQM%20python&f=false\n",
    "def truncated_mean(a, percentile):\n",
    "    limits = dl.stats.outliers(a, method='percentiles', percentiles=(percentile, 100 - percentile))\n",
    "    return tmean(a, limits=limits)\n",
    "\n",
    "# Ref. https://books.google.jo/books?id=nZWqDQAAQBAJ&pg=PA109&lpg=PA109&dq=IQM+python&source=bl&ots=7t0Zof3DwM&sig=ACfU3U34jWFxFitcRCNM_ga-N0wyH28d8A&hl=en&sa=X&ved=2ahUKEwiwwLDK_ZThAhVKWxoKHSyLAkwQ6AEwBHoECAgQAQ#v=onepage&q=IQM%20python&f=false\n",
    "def iqm(x):\n",
    "    return truncated_mean(x, 25)\n",
    "\n",
    "# Low_pass filter - Ref.https://stackoverflow.com/questions/25191620/creating-lowpass-filter-in-scipy-understanding-methods-and-units\n",
    "\n",
    "def butter_lowpass(cutoff, fs, order=5):\n",
    "    nyq = 0.5 * fs\n",
    "    normal_cutoff = cutoff / nyq\n",
    "    b, a = butter(order, normal_cutoff, btype='low', analog=False)\n",
    "    return b, a\n",
    "\n",
    "def butter_lowpass_filter(data, cutoff, fs, order=5):\n",
    "    b, a = butter_lowpass(cutoff, fs, order=order)\n",
    "    y = lfilter(b, a, data)\n",
    "    return y\n",
    "\n",
    "# Band_pass filter - Ref. https://stackoverflow.com/questions/48101564/create-a-band-pass-filter-via-scipy-in-python\n",
    "\n",
    "def butter_bandpass(lowcut, highcut, fs, order=5):\n",
    "    nyq = 0.5 * fs\n",
    "    low = lowcut / nyq\n",
    "    high = highcut / nyq\n",
    "    b, a = signal.butter(order, [low, high], btype='band', analog=False)\n",
    "    return b, a\n",
    "\n",
    "def butter_bandpass_filter(data, lowcut, highcut, fs, order=5):\n",
    "    b, a = butter_bandpass(lowcut, highcut, fs, order=order)\n",
    "    y = lfilter(b, a, data)\n",
    "    return y"
   ]
  },
  {
   "cell_type": "code",
   "execution_count": null,
   "metadata": {},
   "outputs": [],
   "source": [
    "# original: \n",
    "\n",
    "    train_seg_lowp = pd.Series(butter_lowpass_filter(xc, 125_000, 4e6, order=5))\n",
    "    train_seg_band1 = pd.Series(butter_bandpass_filter(xc, 125_000-35_000, 250_000, 4e6, order=5))\n",
    "    train_seg_band2 = pd.Series(butter_bandpass_filter(xc, 250_000-35_000, 375_000, 4e6, order=5))\n",
    "    train_seg_band3 = pd.Series(butter_bandpass_filter(xc, 375_000-35_000, 500_000, 4e6, order=5))\n",
    "    train_seg_band4 = pd.Series(butter_bandpass_filter(xc, 500_000-65_000, 750_000, 4e6, order=5))    \n",
    "    train_seg_band5 = pd.Series(butter_bandpass_filter(xc, 750_000-65_000, 1_000_000, 4e6, order=5))\n",
    "    train_seg_band6 = pd.Series(butter_bandpass_filter(xc, 1_000_000-65_000, 1_250_000, 4e6, order=5))  \n",
    "    train_seg_band7 = pd.Series(butter_bandpass_filter(xc, 1_250_000-35_000, 1_375_000, 4e6, order=5))\n",
    "    train_seg_band8 = pd.Series(butter_bandpass_filter(xc, 1_375_000-35_000, 1_500_000, 4e6, order=5))\n",
    "    train_seg_band9 = pd.Series(butter_bandpass_filter(xc, 1_500_000-35_000, 1_625_000, 4e6, order=5))\n",
    "    train_seg_band10 = pd.Series(butter_bandpass_filter(xc, 1_625_000-35_000, 1_900_000, 4e6, order=5))\n",
    "    \n",
    "# modified 1:\n",
    "\n",
    "    train_seg_lowp = pd.Series(butter_lowpass_filter(xc, 60_000, 4e6, order=5))\n",
    "    train_seg_band1 = pd.Series(butter_bandpass_filter(xc, 60_000-20_000, 125_000, 4e6, order=5))\n",
    "    train_seg_band2 = pd.Series(butter_bandpass_filter(xc, 125_000-35_000, 250_000, 4e6, order=5))  \n",
    "    train_seg_band3 = pd.Series(butter_bandpass_filter(xc, 250_000-35_000, 310_000, 4e6, order=5))\n",
    "    train_seg_band4 = pd.Series(butter_bandpass_filter(xc, 310_000-35_000, 375_000, 4e6, order=5))\n",
    "    train_seg_band5 = pd.Series(butter_bandpass_filter(xc, 375_000-35_000, 435_000, 4e6, order=5))\n",
    "    train_seg_band6 = pd.Series(butter_bandpass_filter(xc, 435_000-35_000, 500_000, 4e6, order=5))\n",
    "    train_seg_band7 = pd.Series(butter_bandpass_filter(xc, 500_000-65_000, 1_375_000, 4e6, order=5))    \n",
    "    train_seg_band8 = pd.Series(butter_bandpass_filter(xc, 1_375_000-35_000, 1_500_000, 4e6, order=5))\n",
    "    train_seg_band9 = pd.Series(butter_bandpass_filter(xc, 1_500_000-35_000, 1_560_000, 4e6, order=5))\n",
    "    train_seg_band10 = pd.Series(butter_bandpass_filter(xc, 1_560_000-35_000, 1_625_000, 4e6, order=5))\n",
    "    train_seg_band11 = pd.Series(butter_bandpass_filter(xc, 1_625_000-35_000, 1_900_000, 4e6, order=5))\n"
   ]
  },
  {
   "cell_type": "markdown",
   "metadata": {},
   "source": [
    "#### Overlapping segments: "
   ]
  },
  {
   "cell_type": "code",
   "execution_count": 5,
   "metadata": {},
   "outputs": [],
   "source": [
    "def create_features_bpass3(seg_id, seg, X):\n",
    "    \n",
    "    xc = pd.Series(seg['acoustic_data'].values)\n",
    "    \n",
    "    train_seg_lowp = pd.Series(butter_lowpass_filter(xc, 60_000, 4e6, order=5))\n",
    "    train_seg_band1 = pd.Series(butter_bandpass_filter(xc, 60_000-20_000, 125_000, 4e6, order=5))\n",
    "    train_seg_band2 = pd.Series(butter_bandpass_filter(xc, 125_000-35_000, 250_000, 4e6, order=5))  \n",
    "    train_seg_band3 = pd.Series(butter_bandpass_filter(xc, 250_000-35_000, 310_000, 4e6, order=5))\n",
    "    train_seg_band4 = pd.Series(butter_bandpass_filter(xc, 310_000-35_000, 375_000, 4e6, order=5))\n",
    "    train_seg_band5 = pd.Series(butter_bandpass_filter(xc, 375_000-35_000, 435_000, 4e6, order=5))\n",
    "    train_seg_band6 = pd.Series(butter_bandpass_filter(xc, 435_000-35_000, 500_000, 4e6, order=5))\n",
    "    train_seg_band7 = pd.Series(butter_bandpass_filter(xc, 500_000-65_000, 1_375_000, 4e6, order=5))    \n",
    "    train_seg_band8 = pd.Series(butter_bandpass_filter(xc, 1_375_000-35_000, 1_500_000, 4e6, order=5))\n",
    "    train_seg_band9 = pd.Series(butter_bandpass_filter(xc, 1_500_000-35_000, 1_560_000, 4e6, order=5))\n",
    "    train_seg_band10 = pd.Series(butter_bandpass_filter(xc, 1_560_000-35_000, 1_625_000, 4e6, order=5))\n",
    "    train_seg_band11 = pd.Series(butter_bandpass_filter(xc, 1_625_000-35_000, 1_900_000, 4e6, order=5))\n",
    "\n",
    "# Common measures of location:    \n",
    "    \n",
    "    X.loc[seg_id, 'mean_lowp'] = train_seg_lowp.mean()\n",
    "    X.loc[seg_id, 'mean_band_1'] = train_seg_band1.mean()    \n",
    "    X.loc[seg_id, 'mean_band_2'] = train_seg_band2.mean()\n",
    "    X.loc[seg_id, 'mean_band_3'] = train_seg_band3.mean()    \n",
    "    X.loc[seg_id, 'mean_band_4'] = train_seg_band4.mean()    \n",
    "    X.loc[seg_id, 'mean_band_5'] = train_seg_band5.mean()\n",
    "    X.loc[seg_id, 'mean_band_6'] = train_seg_band6.mean()    \n",
    "    X.loc[seg_id, 'mean_band_7'] = train_seg_band7.mean()  \n",
    "    X.loc[seg_id, 'mean_band_8'] = train_seg_band8.mean()  \n",
    "    X.loc[seg_id, 'mean_band_9'] = train_seg_band9.mean()  \n",
    "    X.loc[seg_id, 'mean_band_10'] = train_seg_band10.mean()  \n",
    "    X.loc[seg_id, 'mean_band_11'] = train_seg_band11.mean() \n",
    "    \n",
    "    X.loc[seg_id, 'median_lowp'] = train_seg_lowp.median()   \n",
    "    X.loc[seg_id, 'median_band_1'] = train_seg_band1.median()       \n",
    "    X.loc[seg_id, 'median_band_2'] = train_seg_band2.median()   \n",
    "    X.loc[seg_id, 'median_band_3'] = train_seg_band3.median()     \n",
    "    X.loc[seg_id, 'median_band_4'] = train_seg_band4.median()      \n",
    "    X.loc[seg_id, 'median_band_5'] = train_seg_band5.median()  \n",
    "    X.loc[seg_id, 'median_band_6'] = train_seg_band6.median()\n",
    "    X.loc[seg_id, 'median_band_7'] = train_seg_band7.median()  \n",
    "    X.loc[seg_id, 'median_band_8'] = train_seg_band8.median()  \n",
    "    X.loc[seg_id, 'median_band_9'] = train_seg_band9.median()  \n",
    "    X.loc[seg_id, 'median_band_10'] = train_seg_band10.median()  \n",
    "    X.loc[seg_id, 'median_band_11'] = train_seg_band11.median()  \n",
    "    \n",
    "    X.loc[seg_id, 'iqm_lowp'] = iqm(train_seg_lowp)\n",
    "    X.loc[seg_id, 'iqm_band_1'] = iqm(train_seg_band1)\n",
    "    X.loc[seg_id, 'iqm_band_2'] = iqm(train_seg_band2)\n",
    "    X.loc[seg_id, 'iqm_band_3'] = iqm(train_seg_band3)\n",
    "    X.loc[seg_id, 'iqm_band_4'] = iqm(train_seg_band4)  \n",
    "    X.loc[seg_id, 'iqm_band_5'] = iqm(train_seg_band5)\n",
    "    X.loc[seg_id, 'iqm_band_6'] = iqm(train_seg_band6) \n",
    "    X.loc[seg_id, 'iqm_band_7'] = iqm(train_seg_band7)\n",
    "    X.loc[seg_id, 'iqm_band_8'] = iqm(train_seg_band8)\n",
    "    X.loc[seg_id, 'iqm_band_9'] = iqm(train_seg_band9)\n",
    "    X.loc[seg_id, 'iqm_band_10'] = iqm(train_seg_band10)\n",
    "    X.loc[seg_id, 'iqm_band_11'] = iqm(train_seg_band11)\n",
    "    \n",
    "#Common measures of statistical dispersion:\n",
    "\n",
    "    X.loc[seg_id, 'std_lowp'] = train_seg_lowp.std()\n",
    "    X.loc[seg_id, 'std_band1'] = train_seg_band1.std()    \n",
    "    X.loc[seg_id, 'std_band2'] = train_seg_band2.std()    \n",
    "    X.loc[seg_id, 'std_band3'] = train_seg_band3.std()\n",
    "    X.loc[seg_id, 'std_band4'] = train_seg_band4.std()    \n",
    "    X.loc[seg_id, 'std_band5'] = train_seg_band5.std()    \n",
    "    X.loc[seg_id, 'std_band6'] = train_seg_band6.std()\n",
    "    X.loc[seg_id, 'std_band7'] = train_seg_band7.std()\n",
    "    X.loc[seg_id, 'std_band8'] = train_seg_band8.std()\n",
    "    X.loc[seg_id, 'std_band9'] = train_seg_band9.std()\n",
    "    X.loc[seg_id, 'std_band10'] = train_seg_band10.std()\n",
    "    X.loc[seg_id, 'std_band11'] = train_seg_band11.std()\n",
    " \n",
    "    X.loc[seg_id, 'var_lowp'] = train_seg_lowp.var()\n",
    "    X.loc[seg_id, 'var_band1'] = train_seg_band1.var()    \n",
    "    X.loc[seg_id, 'var_band2'] = train_seg_band2.var()    \n",
    "    X.loc[seg_id, 'var_band3'] = train_seg_band3.var()   \n",
    "    X.loc[seg_id, 'var_band4'] = train_seg_band4.var()       \n",
    "    X.loc[seg_id, 'var_band5'] = train_seg_band5.var()    \n",
    "    X.loc[seg_id, 'var_band6'] = train_seg_band6.var()\n",
    "    X.loc[seg_id, 'var_band7'] = train_seg_band7.var()\n",
    "    X.loc[seg_id, 'var_band8'] = train_seg_band8.var()\n",
    "    X.loc[seg_id, 'var_band9'] = train_seg_band9.var()\n",
    "    X.loc[seg_id, 'var_band10'] = train_seg_band10.var()\n",
    "    X.loc[seg_id, 'var_band11'] = train_seg_band11.var()\n",
    "    \n",
    "    X.loc[seg_id, 'range_lowp'] = train_seg_lowp.ptp()\n",
    "    X.loc[seg_id, 'range_band1'] = train_seg_band1.ptp()    \n",
    "    X.loc[seg_id, 'range_band2'] = train_seg_band2.ptp()    \n",
    "    X.loc[seg_id, 'range_band3'] = train_seg_band3.ptp()\n",
    "    X.loc[seg_id, 'range_band4'] = train_seg_band4.ptp()    \n",
    "    X.loc[seg_id, 'range_band5'] = train_seg_band5.ptp()\n",
    "    X.loc[seg_id, 'range_band6'] = train_seg_band6.ptp()\n",
    "    X.loc[seg_id, 'range_band7'] = train_seg_band7.ptp() \n",
    "    X.loc[seg_id, 'range_band8'] = train_seg_band8.ptp() \n",
    "    X.loc[seg_id, 'range_band9'] = train_seg_band9.ptp() \n",
    "    X.loc[seg_id, 'range_band10'] = train_seg_band10.ptp() \n",
    "    X.loc[seg_id, 'range_band11'] = train_seg_band11.ptp() \n",
    "    \n",
    "    X.loc[seg_id, 'iqrange_lowp'] = iqr(train_seg_lowp, rng=(25,75), interpolation='midpoint') \n",
    "    X.loc[seg_id, 'iqrange_band1'] = iqr(train_seg_band1, rng=(25,75), interpolation='midpoint')     \n",
    "    X.loc[seg_id, 'iqrange_band2'] = iqr(train_seg_band2, rng=(25,75), interpolation='midpoint')     \n",
    "    X.loc[seg_id, 'iqrange_band3'] = iqr(train_seg_band3, rng=(25,75), interpolation='midpoint')     \n",
    "    X.loc[seg_id, 'iqrange_band4'] = iqr(train_seg_band4, rng=(25,75), interpolation='midpoint') \n",
    "    X.loc[seg_id, 'iqrange_band5'] = iqr(train_seg_band5, rng=(25,75), interpolation='midpoint')     \n",
    "    X.loc[seg_id, 'iqrange_band6'] = iqr(train_seg_band6, rng=(25,75), interpolation='midpoint')\n",
    "    X.loc[seg_id, 'iqrange_band7'] = iqr(train_seg_band7, rng=(25,75), interpolation='midpoint') \n",
    "    X.loc[seg_id, 'iqrange_band8'] = iqr(train_seg_band8, rng=(25,75), interpolation='midpoint') \n",
    "    X.loc[seg_id, 'iqrange_band9'] = iqr(train_seg_band9, rng=(25,75), interpolation='midpoint') \n",
    "    X.loc[seg_id, 'iqrange_band10'] = iqr(train_seg_band10, rng=(25,75), interpolation='midpoint') \n",
    "    X.loc[seg_id, 'iqrange_band11'] = iqr(train_seg_band11, rng=(25,75), interpolation='midpoint') \n",
    "    \n",
    "    X.loc[seg_id, 'mad_lowp'] = train_seg_lowp.mad()   \n",
    "    X.loc[seg_id, 'mad_band1'] = train_seg_band1.mad()   \n",
    "    X.loc[seg_id, 'mad_band2'] = train_seg_band2.mad() \n",
    "    X.loc[seg_id, 'mad_band3'] = train_seg_band3.mad()\n",
    "    X.loc[seg_id, 'mad_band4'] = train_seg_band4.mad()\n",
    "    X.loc[seg_id, 'mad_band5'] = train_seg_band5.mad()\n",
    "    X.loc[seg_id, 'mad_band6'] = train_seg_band6.mad()\n",
    "    X.loc[seg_id, 'mad_band7'] = train_seg_band7.mad()\n",
    "    X.loc[seg_id, 'mad_band8'] = train_seg_band8.mad()\n",
    "    X.loc[seg_id, 'mad_band9'] = train_seg_band9.mad()\n",
    "    X.loc[seg_id, 'mad_band10'] = train_seg_band10.mad()\n",
    "    X.loc[seg_id, 'mad_band11'] = train_seg_band11.mad()\n",
    "\n",
    "#Common measures of the shape:\n",
    "\n",
    "    X.loc[seg_id, 'skew_lowp'] = skew(train_seg_lowp)  \n",
    "    X.loc[seg_id, 'skew_band1'] = skew(train_seg_band1)\n",
    "    X.loc[seg_id, 'skew_band2'] = skew(train_seg_band2)  \n",
    "    X.loc[seg_id, 'skew_band3'] = skew(train_seg_band3)  \n",
    "    X.loc[seg_id, 'skew_band4'] = skew(train_seg_band4) \n",
    "    X.loc[seg_id, 'skew_band5'] = skew(train_seg_band5) \n",
    "    X.loc[seg_id, 'skew_band6'] = skew(train_seg_band6)  \n",
    "    X.loc[seg_id, 'skew_band7'] = skew(train_seg_band7) \n",
    "    X.loc[seg_id, 'skew_band8'] = skew(train_seg_band8) \n",
    "    X.loc[seg_id, 'skew_band9'] = skew(train_seg_band9) \n",
    "    X.loc[seg_id, 'skew_band10'] = skew(train_seg_band10) \n",
    "    X.loc[seg_id, 'skew_band11'] = skew(train_seg_band11) \n",
    "    \n",
    "    X.loc[seg_id, 'kurtosis_lowp'] = kurtosis(train_seg_lowp)      \n",
    "    X.loc[seg_id, 'kurtosis_band1'] = kurtosis(train_seg_band1)    \n",
    "    X.loc[seg_id, 'kurtosis_band2'] = kurtosis(train_seg_band2)    \n",
    "    X.loc[seg_id, 'kurtosis_band3'] = kurtosis(train_seg_band3) \n",
    "    X.loc[seg_id, 'kurtosis_band4'] = kurtosis(train_seg_band4) \n",
    "    X.loc[seg_id, 'kurtosis_band5'] = kurtosis(train_seg_band5) \n",
    "    X.loc[seg_id, 'kurtosis_band6'] = kurtosis(train_seg_band6) \n",
    "    X.loc[seg_id, 'kurtosis_band7'] = kurtosis(train_seg_band7) \n",
    "    X.loc[seg_id, 'kurtosis_band8'] = kurtosis(train_seg_band8) \n",
    "    X.loc[seg_id, 'kurtosis_band9'] = kurtosis(train_seg_band9) \n",
    "    X.loc[seg_id, 'kurtosis_band10'] = kurtosis(train_seg_band10) \n",
    "    X.loc[seg_id, 'kurtosis_band11'] = kurtosis(train_seg_band11) "
   ]
  },
  {
   "cell_type": "code",
   "execution_count": 6,
   "metadata": {},
   "outputs": [],
   "source": [
    "train_X = pd.DataFrame(index=range(segments), dtype=np.float64)\n",
    "train_y = pd.DataFrame(index=range(segments), dtype=np.float64, columns=['time_to_failure'])"
   ]
  },
  {
   "cell_type": "code",
   "execution_count": 7,
   "metadata": {},
   "outputs": [
    {
     "data": {
      "application/vnd.jupyter.widget-view+json": {
       "model_id": "",
       "version_major": 2,
       "version_minor": 0
      },
      "text/plain": [
       "HBox(children=(IntProgress(value=0, max=4194), HTML(value='')))"
      ]
     },
     "metadata": {},
     "output_type": "display_data"
    },
    {
     "name": "stdout",
     "output_type": "stream",
     "text": [
      "\n"
     ]
    }
   ],
   "source": [
    "from tqdm import tqdm_notebook\n",
    "\n",
    "for seg_id in tqdm_notebook(range(segments)):\n",
    "    seg = train_df.iloc[seg_id*rows:seg_id*rows+rows]\n",
    "    create_features_bpass3(seg_id, seg, train_X)\n",
    "    train_y.loc[seg_id, 'time_to_failure'] = seg['time_to_failure'].values[-1]"
   ]
  },
  {
   "cell_type": "code",
   "execution_count": 17,
   "metadata": {},
   "outputs": [],
   "source": [
    "submission = pd.read_csv('../input/sample_submission.csv', index_col='seg_id')\n",
    "test_X = pd.DataFrame(columns=train_X.columns, dtype=np.float64, index=submission.index)"
   ]
  },
  {
   "cell_type": "code",
   "execution_count": 18,
   "metadata": {},
   "outputs": [
    {
     "data": {
      "application/vnd.jupyter.widget-view+json": {
       "model_id": "6a3160b20fd4487887b2d05a63c0c5c2",
       "version_major": 2,
       "version_minor": 0
      },
      "text/plain": [
       "HBox(children=(IntProgress(value=0, max=2624), HTML(value='')))"
      ]
     },
     "metadata": {},
     "output_type": "display_data"
    }
   ],
   "source": [
    "for seg_id in tqdm_notebook(test_X.index):\n",
    "    seg = pd.read_csv('../input/test/' + seg_id + '.csv')\n",
    "    create_features_bpass3(seg_id, seg, test_X)"
   ]
  },
  {
   "cell_type": "code",
   "execution_count": 19,
   "metadata": {},
   "outputs": [],
   "source": [
    "from sklearn.preprocessing import StandardScaler\n",
    "\n",
    "scaler = StandardScaler()\n",
    "scaler.fit(train_X)\n",
    "scaled_train_X = pd.DataFrame(scaler.transform(train_X), columns=train_X.columns)\n",
    "scaled_test_X = pd.DataFrame(scaler.transform(test_X), columns=test_X.columns)"
   ]
  },
  {
   "cell_type": "code",
   "execution_count": 20,
   "metadata": {},
   "outputs": [],
   "source": [
    "from sklearn.model_selection import KFold\n",
    "\n",
    "n_fold = 5\n",
    "folds = KFold(n_splits=n_fold, shuffle=True, random_state=42)\n",
    "train_columns = train_X.columns.values"
   ]
  },
  {
   "cell_type": "code",
   "execution_count": 23,
   "metadata": {},
   "outputs": [],
   "source": [
    "params = {'num_leaves': 51,\n",
    "         'min_data_in_leaf': 10, \n",
    "         'objective':'regression',\n",
    "         'max_depth': -1,\n",
    "         'learning_rate': 0.001,\n",
    "         \"boosting\": \"gbdt\",\n",
    "         \"feature_fraction\": 0.91,\n",
    "         \"bagging_freq\": 1,\n",
    "         \"bagging_fraction\": 0.91,\n",
    "         \"bagging_seed\": 42,\n",
    "         \"metric\": 'mae',\n",
    "         \"lambda_l1\": 0.1,\n",
    "         \"verbosity\": -1,\n",
    "         \"nthread\": -1,\n",
    "         \"random_state\": 42}"
   ]
  },
  {
   "cell_type": "code",
   "execution_count": null,
   "metadata": {},
   "outputs": [],
   "source": [
    "import lightgbm as lgb\n",
    "from sklearn.metrics import mean_absolute_error\n",
    "import seaborn as sns\n",
    "\n",
    "oof = np.zeros(len(scaled_train_X))\n",
    "predictions = np.zeros(len(scaled_test_X))\n",
    "scores = []\n",
    "feature_importance_df = pd.DataFrame()\n",
    "fold_importance = pd.DataFrame()\n",
    "#run model\n",
    "for fold_, (trn_idx, val_idx) in enumerate(folds.split(scaled_train_X,train_y.values)):\n",
    "    strLog = \"fold {}\".format(fold_)\n",
    "    print(strLog)\n",
    "    \n",
    "    X_tr, X_val = scaled_train_X.iloc[trn_idx], scaled_train_X.iloc[val_idx]\n",
    "    y_tr, y_val = train_y.iloc[trn_idx], train_y.iloc[val_idx]\n",
    "\n",
    "    model = lgb.LGBMRegressor(**params, n_estimators = 20000, n_jobs = -1)\n",
    "    model.fit(X_tr, y_tr, \n",
    "                    eval_set=[(X_tr, y_tr), (X_val, y_val)], eval_metric='mae',\n",
    "                    verbose=1000, early_stopping_rounds=200)\n",
    "    y_pred_valid = model.predict(X_val, num_iteration=model.best_iteration_)\n",
    "    oof[val_idx] = y_pred_valid.reshape(-1,)\n",
    "    scores.append(mean_absolute_error(y_val, y_pred_valid))\n",
    "\n",
    "    #feature importance\n",
    "    fold_importance_df = pd.DataFrame()\n",
    "    fold_importance_df[\"Feature\"] = train_columns\n",
    "    fold_importance_df[\"importance\"] = model.feature_importances_[:len(train_columns)]\n",
    "    fold_importance_df[\"fold\"] = fold_ + 1\n",
    "    feature_importance_df = pd.concat([feature_importance_df, fold_importance_df], axis=0)\n",
    "    #predictions\n",
    "    predictions += model.predict(scaled_test_X, num_iteration=model.best_iteration_) / folds.n_splits\n",
    "    \n",
    "print('CV mean score: {0:.4f}, std: {1:.4f}.'.format(np.mean(scores), np.std(scores)))\n",
    "    \n",
    "feature_importance_df[\"importance\"] /= fold_\n",
    "\n",
    "cols = feature_importance_df[[\"Feature\", \"importance\"]].groupby(\"Feature\").mean().sort_values(\n",
    "                by=\"importance\", ascending=False)[:70].index\n",
    "\n",
    "best_features = feature_importance_df.loc[feature_importance_df.Feature.isin(cols)]\n",
    "\n",
    "plt.figure(figsize=(30, 30));\n",
    "sns.barplot(x=\"importance\", y=\"Feature\", data=best_features.sort_values(by=\"importance\", ascending=False));\n",
    "plt.title('LGB Features (avg over folds)');"
   ]
  },
  {
   "cell_type": "code",
   "execution_count": 50,
   "metadata": {},
   "outputs": [],
   "source": [
    "submission = pd.read_csv('../input/sample_submission.csv', index_col='seg_id')\n",
    "submission.time_to_failure = predictions\n",
    "submission.to_csv('submissionbandpass10ovrlp.csv',index=True)"
   ]
  },
  {
   "cell_type": "code",
   "execution_count": 160,
   "metadata": {},
   "outputs": [
    {
     "data": {
      "text/plain": [
       "11133"
      ]
     },
     "execution_count": 160,
     "metadata": {},
     "output_type": "execute_result"
    }
   ],
   "source": [
    "import gc\n",
    "gc.collect()"
   ]
  },
  {
   "cell_type": "code",
   "execution_count": 15,
   "metadata": {},
   "outputs": [],
   "source": [
    "import copy\n",
    "import gc\n",
    "import os\n",
    "import sys\n",
    "import warnings\n",
    "\n",
    "from IPython.core.display import display, HTML\n",
    "import lightgbm as lgb\n",
    "from matplotlib import pyplot as plt\n",
    "import numba\n",
    "import numpy as np\n",
    "import pandas as pd\n",
    "import pyarrow\n",
    "import pyarrow.parquet as pq\n",
    "import scipy.stats\n",
    "import seaborn as sns \n",
    "import sklearn\n",
    "from sklearn.metrics import matthews_corrcoef, precision_recall_fscore_support"
   ]
  },
  {
   "cell_type": "code",
   "execution_count": 18,
   "metadata": {},
   "outputs": [],
   "source": [
    "@numba.jit(nopython=True)\n",
    "def flatiron(x, alpha=100., beta=1):\n",
    "    \"\"\"\n",
    "    Flatten signal\n",
    "    \n",
    "    Creator: Michael Kazachok\n",
    "    Source: https://www.kaggle.com/miklgr500/flatiron\n",
    "    \"\"\"\n",
    "    new_x = np.zeros_like(x)\n",
    "    zero = x[0]\n",
    "    for i in range(1, len(x)):\n",
    "        zero = zero*(alpha-beta)/alpha + beta*x[i]/alpha\n",
    "        new_x[i] = x[i] - zero\n",
    "    return new_x"
   ]
  },
  {
   "cell_type": "code",
   "execution_count": 19,
   "metadata": {},
   "outputs": [],
   "source": [
    "@numba.jit(nopython=True)\n",
    "def drop_missing(intersect,sample):\n",
    "    \"\"\"\n",
    "    Find intersection of sorted numpy arrays\n",
    "    \n",
    "    Since intersect1d sort arrays each time, it's effectively inefficient.\n",
    "    Here you have to sweep intersection and each sample together to build\n",
    "    the new intersection, which can be done in linear time, maintaining order. \n",
    "\n",
    "    Source: https://stackoverflow.com/questions/46572308/intersection-of-sorted-numpy-arrays\n",
    "    Creator: B. M.\n",
    "    \"\"\"\n",
    "    i=j=k=0\n",
    "    new_intersect=np.empty_like(intersect)\n",
    "    while i< intersect.size and j < sample.size:\n",
    "        if intersect[i]==sample[j]: # the 99% case\n",
    "            new_intersect[k]=intersect[i]\n",
    "            k+=1\n",
    "            i+=1\n",
    "            j+=1\n",
    "        elif intersect[i]<sample[j]:\n",
    "            i+=1\n",
    "        else : \n",
    "            j+=1\n",
    "    return new_intersect[:k]"
   ]
  },
  {
   "cell_type": "code",
   "execution_count": 21,
   "metadata": {},
   "outputs": [],
   "source": [
    "@numba.jit(nopython=True)\n",
    "def _local_maxima_1d_window_single_pass(x, w):\n",
    "    \n",
    "    midpoints = np.empty(x.shape[0] // 2, dtype=np.intp)\n",
    "    left_edges = np.empty(x.shape[0] // 2, dtype=np.intp)\n",
    "    right_edges = np.empty(x.shape[0] // 2, dtype=np.intp)\n",
    "    m = 0  # Pointer to the end of valid area in allocated arrays\n",
    "\n",
    "    i = 1  # Pointer to current sample, first one can't be maxima\n",
    "    i_max = x.shape[0] - 1  # Last sample can't be maxima\n",
    "    while i < i_max:\n",
    "        # Test if previous sample is smaller\n",
    "        if x[i - 1] < x[i]:\n",
    "            i_ahead = i + 1  # Index to look ahead of current sample\n",
    "\n",
    "            # Find next sample that is unequal to x[i]\n",
    "            while i_ahead < i_max and x[i_ahead] == x[i]:\n",
    "                i_ahead += 1\n",
    "                    \n",
    "            i_right = i_ahead - 1\n",
    "            \n",
    "            f = False\n",
    "            i_window_end = i_right + w\n",
    "            while i_ahead < i_max and i_ahead < i_window_end:\n",
    "                if x[i_ahead] > x[i]:\n",
    "                    f = True\n",
    "                    break\n",
    "                i_ahead += 1\n",
    "                \n",
    "            # Maxima is found if next unequal sample is smaller than x[i]\n",
    "            if x[i_ahead] < x[i]:\n",
    "                left_edges[m] = i\n",
    "                right_edges[m] = i_right\n",
    "                midpoints[m] = (left_edges[m] + right_edges[m]) // 2\n",
    "                m += 1\n",
    "                \n",
    "            # Skip samples that can't be maximum\n",
    "            i = i_ahead - 1\n",
    "        i += 1\n",
    "\n",
    "    # Keep only valid part of array memory.\n",
    "    midpoints = midpoints[:m]\n",
    "    left_edges = left_edges[:m]\n",
    "    right_edges = right_edges[:m]\n",
    "    \n",
    "    return midpoints, left_edges, right_edges\n",
    "\n",
    "@numba.jit(nopython=True)\n",
    "def local_maxima_1d_window(x, w=1):\n",
    "    \"\"\"\n",
    "    Find local maxima in a 1D array.\n",
    "    This function finds all local maxima in a 1D array and returns the indices\n",
    "    for their midpoints (rounded down for even plateau sizes).\n",
    "    It is a modified version of scipy.signal._peak_finding_utils._local_maxima_1d\n",
    "    to include the use of a window to define how many points on each side to use in\n",
    "    the test for a point being a local maxima.\n",
    "    Parameters\n",
    "    ----------\n",
    "    x : ndarray\n",
    "        The array to search for local maxima.\n",
    "    w : np.int\n",
    "        How many points on each side to use for the comparison to be True\n",
    "    Returns\n",
    "    -------\n",
    "    midpoints : ndarray\n",
    "        Indices of midpoints of local maxima in `x`.\n",
    "    Notes\n",
    "    -----\n",
    "    - Compared to `argrelmax` this function is significantly faster and can\n",
    "      detect maxima that are more than one sample wide. However this comes at\n",
    "      the cost of being only applicable to 1D arrays.\n",
    "    \"\"\"    \n",
    "        \n",
    "    fm, fl, fr = _local_maxima_1d_window_single_pass(x, w)\n",
    "    bm, bl, br = _local_maxima_1d_window_single_pass(x[::-1], w)\n",
    "    bm = np.abs(bm - x.shape[0] + 1)[::-1]\n",
    "    bl = np.abs(bl - x.shape[0] + 1)[::-1]\n",
    "    br = np.abs(br - x.shape[0] + 1)[::-1]\n",
    "\n",
    "    m = drop_missing(fm, bm)\n",
    "\n",
    "    return m"
   ]
  },
  {
   "cell_type": "code",
   "execution_count": 22,
   "metadata": {},
   "outputs": [],
   "source": [
    "@numba.jit(nopython=True)\n",
    "def plateau_detection(grad, threshold, plateau_length=5):\n",
    "    \"\"\"Detect the point when the gradient has reach a plateau\"\"\"\n",
    "    \n",
    "    count = 0\n",
    "    loc = 0\n",
    "    for i in range(grad.shape[0]):\n",
    "        if grad[i] > threshold:\n",
    "            count += 1\n",
    "        \n",
    "        if count == plateau_length:\n",
    "            loc = i - plateau_length\n",
    "            break\n",
    "            \n",
    "    return loc"
   ]
  },
  {
   "cell_type": "code",
   "execution_count": 27,
   "metadata": {},
   "outputs": [],
   "source": [
    "#@numba.jit(nopython=True)\n",
    "def get_peaks(\n",
    "    x, \n",
    "    window=25,\n",
    "    visualise=False,\n",
    "    visualise_color=None,\n",
    "):\n",
    "    \"\"\"\n",
    "    Find the peaks in a signal trace.\n",
    "    Parameters\n",
    "    ----------\n",
    "    x : ndarray\n",
    "        The array to search.\n",
    "    window : np.int\n",
    "        How many points on each side to use for the local maxima test\n",
    "    Returns\n",
    "    -------\n",
    "    peaks_x : ndarray\n",
    "        Indices of midpoints of peaks in `x`.\n",
    "    peaks_y : ndarray\n",
    "        Absolute heights of peaks in `x`.\n",
    "    x_hp : ndarray\n",
    "        An absolute flattened version of `x`.\n",
    "    \"\"\"\n",
    "    \n",
    "    x_hp = flatiron(x, 100, 1)\n",
    "\n",
    "    x_dn = np.abs(x_hp)\n",
    "    \n",
    "    peaks = local_maxima_1d_window(x_dn, window)\n",
    "    \n",
    "    heights = x_dn[peaks]\n",
    "    \n",
    "    ii = np.argsort(heights)[::-1]\n",
    "    \n",
    "    peaks = peaks[ii]\n",
    "    heights = heights[ii]\n",
    "    \n",
    "    ky = heights\n",
    "    kx = np.arange(1, heights.shape[0]+1)\n",
    "    \n",
    "    conv_length = 9\n",
    "\n",
    "    grad = np.diff(ky, 1)/np.diff(kx, 1)\n",
    "    grad = np.convolve(grad, np.ones(conv_length)/conv_length)#, mode='valid')\n",
    "    grad = grad[conv_length-1:-conv_length+1]\n",
    "    \n",
    "    knee_x = plateau_detection(grad, -0.01, plateau_length=1000)\n",
    "    knee_x -= conv_length//2\n",
    "    \n",
    "    if visualise:\n",
    "        plt.plot(grad, color=visualise_color)\n",
    "        plt.axvline(knee_x, ls=\"--\", color=visualise_color)\n",
    "    \n",
    "    peaks_x = peaks[:knee_x]\n",
    "    peaks_y = heights[:knee_x]\n",
    "    \n",
    "    ii = np.argsort(peaks_x)\n",
    "    peaks_x = peaks_x[ii]\n",
    "    peaks_y = peaks_y[ii]\n",
    "        \n",
    "    return peaks_x, peaks_y, x_hp"
   ]
  },
  {
   "cell_type": "code",
   "execution_count": 23,
   "metadata": {},
   "outputs": [],
   "source": [
    "@numba.jit(nopython=True)\n",
    "def clip(v, l, u):\n",
    "    \"\"\"Numba helper function to clip a value\"\"\"\n",
    "    \n",
    "    if v < l:\n",
    "        v = l\n",
    "    elif v > u:\n",
    "        v = u\n",
    "        \n",
    "    return v"
   ]
  },
  {
   "cell_type": "code",
   "execution_count": 191,
   "metadata": {},
   "outputs": [],
   "source": [
    "peak_features_names = [\n",
    "    'ratio_next',\n",
    "    'ratio_prev',\n",
    "    'small_dist_to_min',\n",
    "    'sawtooth_rmse',\n",
    "]\n",
    "\n",
    "num_peak_features = len(peak_features_names)\n",
    "\n",
    "@numba.jit(nopython=True)\n",
    "def create_sawtooth_template(sawtooth_length, pre_length, post_length):\n",
    "    \"\"\"Generate sawtooth template\"\"\"\n",
    "    \n",
    "    l = pre_length+post_length+1\n",
    "    \n",
    "    st = np.zeros(l)\n",
    "    for i in range(sawtooth_length+1):\n",
    "        \n",
    "        j = pre_length+i\n",
    "        if j < l:\n",
    "            st[j] = 1 - ((2./sawtooth_length) * i)\n",
    "        \n",
    "    return st\n",
    "\n",
    "@numba.jit(nopython=True)\n",
    "def calculate_peak_features(px, x_hp0, ws=5, wl=25):\n",
    "    \"\"\"\n",
    "    Calculate features for peaks.\n",
    "    Parameters\n",
    "    ----------\n",
    "    px : ndarray\n",
    "        Indices of peaks.\n",
    "    x_hp0 : ndarray\n",
    "        The array to search.\n",
    "    ws : np.int\n",
    "        How many points on each side to use for small window features\n",
    "    wl : np.int\n",
    "        How many points on each side to use for large window features\n",
    "    Returns\n",
    "    -------\n",
    "    features : ndarray\n",
    "        Features calculate for each peak in `x_hp0`.\n",
    "    \"\"\"\n",
    "    \n",
    "    features = np.ones((px.shape[0], num_peak_features), dtype=np.float64) * np.nan\n",
    "    \n",
    "    for i in range(px.shape[0]):\n",
    "        \n",
    "        feature_number = 0\n",
    "        \n",
    "        x = px[i]\n",
    "        x_next = x+1\n",
    "        x_prev = x-1\n",
    "        \n",
    "        h0 = x_hp0[x]\n",
    "\n",
    "        ws_s = clip(x-ws, 0, 150000-1)\n",
    "        ws_e = clip(x+ws, 0, 150000-1)\n",
    "        wl_s = clip(x-wl, 0, 150000-1)\n",
    "        wl_e = clip(x+wl, 0, 150000-1)\n",
    "        \n",
    "        ws_pre = x - ws_s\n",
    "        ws_post = ws_e - x\n",
    "        \n",
    "        wl_pre = x - wl_s\n",
    "        wl_post = wl_e - x\n",
    "        \n",
    "        if x_next < 150000:\n",
    "            h0_next = x_hp0[x_next]\n",
    "            features[i, feature_number] = np.abs(h0_next)/np.abs(h0)\n",
    "        feature_number += 1\n",
    "            \n",
    "        if x_prev >= 0:\n",
    "            h0_prev = x_hp0[x_prev]\n",
    "            features[i, feature_number] = np.abs(h0_prev)/np.abs(h0)\n",
    "        feature_number += 1\n",
    "            \n",
    "        x_hp_ws0 = x_hp0[ws_s:ws_e+1]\n",
    "        x_hp_wl0 = x_hp0[wl_s:wl_e+1]\n",
    "        x_hp_wl0_norm = (x_hp_wl0/np.abs(h0))\n",
    "        x_hp_ws0_norm = (x_hp_ws0/np.abs(h0))\n",
    "        x_hp_abs_wl0 = np.abs(x_hp_wl0)\n",
    "        wl_max_0 = np.max(x_hp_abs_wl0)\n",
    "        \n",
    "        ws_opp_peak_i = np.argmin(x_hp_ws0*np.sign(h0))\n",
    "        \n",
    "        features[i, feature_number] = ws_opp_peak_i - ws\n",
    "        feature_number += 1\n",
    "        \n",
    "        x_hp_wl0_norm_sign = x_hp_wl0_norm * np.sign(h0)\n",
    "        \n",
    "        sawtooth_length = 3\n",
    "        st = create_sawtooth_template(sawtooth_length, wl_pre, wl_post)\n",
    "        assert np.argmax(st) == np.argmax(x_hp_wl0_norm_sign)\n",
    "        assert st.shape[0] == x_hp_wl0_norm_sign.shape[0]\n",
    "        features[i, feature_number] = np.mean(np.power(x_hp_wl0_norm_sign - st, 2))\n",
    "        feature_number += 1\n",
    "        \n",
    "        if i == 0:\n",
    "            assert feature_number == num_peak_features\n",
    "        \n",
    "    return features"
   ]
  },
  {
   "cell_type": "code",
   "execution_count": 192,
   "metadata": {},
   "outputs": [],
   "source": [
    "def process_signal(\n",
    "    data,\n",
    "    window=25,\n",
    "):\n",
    "    \"\"\"\n",
    "    Process a signal trace to find the peaks and calculate features for each peak.\n",
    "    Parameters\n",
    "    ----------\n",
    "    data : ndarray\n",
    "        The array to search.\n",
    "    window : np.int\n",
    "        How many points on each side to use for the local maxima test\n",
    "    Returns\n",
    "    -------\n",
    "    px0 : ndarray\n",
    "        Indices for each peak in `data`.\n",
    "    height0 : ndarray\n",
    "        Absolute heaight for each peak in `data`.\n",
    "    f0 : ndarray\n",
    "        Features calculate for each peak in `data`.\n",
    "    \"\"\"\n",
    "    \n",
    "    px0, height0, x_hp0 = get_peaks(\n",
    "        data.astype(np.float),\n",
    "        window=window, \n",
    "    )\n",
    "            \n",
    "    f0 = calculate_peak_features(px0, x_hp0)\n",
    "    \n",
    "    return px0, height0, f0"
   ]
  },
  {
   "cell_type": "code",
   "execution_count": 217,
   "metadata": {},
   "outputs": [
    {
     "data": {
      "text/plain": [
       "150000"
      ]
     },
     "execution_count": 217,
     "metadata": {},
     "output_type": "execute_result"
    }
   ],
   "source": [
    "len(train_df['acoustic_data'][:150_000].values.ravel())"
   ]
  },
  {
   "cell_type": "code",
   "execution_count": 231,
   "metadata": {},
   "outputs": [],
   "source": [
    "signal = process_signal(train_df['acoustic_data'][:150_000].values.ravel())"
   ]
  },
  {
   "cell_type": "code",
   "execution_count": 238,
   "metadata": {},
   "outputs": [],
   "source": [
    "px0 = signal[0]\n",
    "height0 = signal[1]\n",
    "f0 = signal[2]"
   ]
  },
  {
   "cell_type": "code",
   "execution_count": 256,
   "metadata": {},
   "outputs": [],
   "source": [
    "loc = np.column_stack((px0,height0))"
   ]
  },
  {
   "cell_type": "code",
   "execution_count": 257,
   "metadata": {},
   "outputs": [],
   "source": [
    "from sklearn.decomposition import PCA\n",
    "pca = PCA(n_components=1)\n",
    "pcaxy = pca.fit(loc)"
   ]
  },
  {
   "cell_type": "code",
   "execution_count": 250,
   "metadata": {},
   "outputs": [],
   "source": [
    "pcaxy = pca.transform(loc)"
   ]
  },
  {
   "cell_type": "code",
   "execution_count": 262,
   "metadata": {},
   "outputs": [],
   "source": [
    "loc = np.column_stack((px0,height0))\n",
    "pcaxy = pca.fit_transform(loc)"
   ]
  },
  {
   "cell_type": "code",
   "execution_count": 222,
   "metadata": {},
   "outputs": [],
   "source": [
    "def column(matrix, i):\n",
    "    return [row[i] for row in matrix]"
   ]
  },
  {
   "cell_type": "code",
   "execution_count": 223,
   "metadata": {},
   "outputs": [],
   "source": [
    "proc_signal = pd.DataFrame({'px0':px0, 'height0':height0, 'f0':column(f0, 0), 'f1':column(f0, 1), 'f2':column(f0, 2), 'f3':column(f0, 3)})"
   ]
  },
  {
   "cell_type": "code",
   "execution_count": 225,
   "metadata": {},
   "outputs": [],
   "source": [
    "import matplotlib.pyplot as plt"
   ]
  },
  {
   "cell_type": "code",
   "execution_count": 230,
   "metadata": {},
   "outputs": [
    {
     "data": {
      "text/plain": [
       "[<matplotlib.lines.Line2D at 0x1978384bf60>]"
      ]
     },
     "execution_count": 230,
     "metadata": {},
     "output_type": "execute_result"
    },
    {
     "data": {
      "image/png": "[encoded data removed]",
      "text/plain": [
       "<Figure size 2160x1080 with 1 Axes>"
      ]
     },
     "metadata": {
      "needs_background": "light"
     },
     "output_type": "display_data"
    }
   ],
   "source": [
    "ax = train_df[:150_000].plot(y='acoustic_data', figsize=(30,15), linewidth=2)\n",
    "ax.plot(proc_signal['px0'], proc_signal['height0'], \"x\", markersize=8, markeredgewidth=2, markeredgecolor='red', markerfacecolor='red')\n",
    "#ax.plot(peaks_eq1_acs[0], 0, \"x\", markersize=18, markeredgewidth=2, markeredgecolor='red', markerfacecolor='red')\n",
    "#ax.set_ylabel(\"Acoustic Signal\")\n",
    "#ax = ax.twinx()\n",
    "#ax.plot(train_eq1['time_to_failure'], c='darkred')\n",
    "#ax.set_ylabel(\"Time to Failure\")\n",
    "#ax.set_title(\"Figure-5: Delay between first acoustic_signal peak and zero time_to_failure\")"
   ]
  },
  {
   "cell_type": "code",
   "execution_count": 340,
   "metadata": {},
   "outputs": [],
   "source": [
    "# Ref https://www.kaggle.com/gpreda/lanl-earthquake-eda-and-prediction\n",
    "\n",
    "from scipy.stats import iqr,kurtosis,skew\n",
    "from statistics import mode\n",
    "from sklearn.decomposition import PCA\n",
    "\n",
    "\n",
    "def create_features_peaks(seg_id, seg, X):\n",
    "    xc = pd.Series(seg['acoustic_data'].values)\n",
    "    xc = fft(xc)\n",
    "    signal = process_signal(xc.ravel())\n",
    "    px = signal[0]\n",
    "    height = pd.Series(signal[1])\n",
    "    f = signal[2]\n",
    "    f0 = pd.Series(column(f, 0))\n",
    "    f1 = pd.Series(column(f, 1))\n",
    "    f2 = pd.Series(column(f, 2))\n",
    "    f3 = pd.Series(column(f, 3))\n",
    "    \n",
    "# Common measures of location:    \n",
    "\n",
    "    X.loc[seg_id, 'f0_mean'] = f0.mean()\n",
    "    X.loc[seg_id, 'f0_median'] = f0.median()     \n",
    "    X.loc[seg_id, 'f0_iqm'] = iqm(f0)\n",
    "    \n",
    "    X.loc[seg_id, 'f1_mean'] = f1.mean()\n",
    "    X.loc[seg_id, 'f1_median'] = f1.median()     \n",
    "    X.loc[seg_id, 'f1_iqm'] = iqm(f1)\n",
    "    \n",
    "    X.loc[seg_id, 'f2_mean'] = f2.mean()\n",
    "    X.loc[seg_id, 'f2_median'] = f2.median()     \n",
    "    X.loc[seg_id, 'f2_iqm'] = iqm(f2)\n",
    "    \n",
    "    X.loc[seg_id, 'f3_mean'] = f3.mean()\n",
    "    X.loc[seg_id, 'f3_median'] = f3.median()     \n",
    "    X.loc[seg_id, 'f3_iqm'] = iqm(f3)\n",
    "    \n",
    "    X.loc[seg_id, 'height_mean'] = height.mean()\n",
    "    X.loc[seg_id, 'height_median'] = height.median()     \n",
    "    X.loc[seg_id, 'height_iqm'] = iqm(height)\n",
    "    X.loc[seg_id, 'height_sum'] = height.sum()\n",
    "    X.loc[seg_id, 'height_max'] = height.max()\n",
    "    X.loc[seg_id, 'height_min'] = height.min()\n",
    "    \n",
    "    X.loc[seg_id, 'px_count'] = len(px)\n",
    "    \n",
    "    \n",
    "#Common measures of statistical dispersion:\n",
    "\n",
    "    X.loc[seg_id, 'he_std'] = height.std()\n",
    "    X.loc[seg_id, 'he_var'] = height.var()\n",
    "    X.loc[seg_id, 'he_range'] = height.ptp()\n",
    "    X.loc[seg_id, 'he_iqrange'] = iqr(height, rng=(25,75), interpolation='midpoint') \n",
    "    X.loc[seg_id, 'he_mad'] = height.mad() \n",
    "\n",
    "    X.loc[seg_id, 'f0_std'] = f0.std()\n",
    "    X.loc[seg_id, 'f0_var'] = f0.var()\n",
    "    X.loc[seg_id, 'f0_range'] = f0.ptp()\n",
    "    X.loc[seg_id, 'f0_iqrange'] = iqr(f0, rng=(25,75), interpolation='midpoint') \n",
    "    X.loc[seg_id, 'f0_mad'] = f0.mad()   \n",
    "    \n",
    "    X.loc[seg_id, 'f1_std'] = f1.std()\n",
    "    X.loc[seg_id, 'f1_var'] = f1.var()\n",
    "    X.loc[seg_id, 'f1_range'] = f1.ptp()\n",
    "    X.loc[seg_id, 'f1_iqrange'] = iqr(f1, rng=(25,75), interpolation='midpoint') \n",
    "    X.loc[seg_id, 'f1_mad'] = f1.mad()  \n",
    "    \n",
    "    X.loc[seg_id, 'f2_std'] = f2.std()\n",
    "    X.loc[seg_id, 'f2_var'] = f2.var()\n",
    "    X.loc[seg_id, 'f2_range'] = f2.ptp()\n",
    "    X.loc[seg_id, 'f2_iqrange'] = iqr(f2, rng=(25,75), interpolation='midpoint') \n",
    "    X.loc[seg_id, 'f2_mad'] = f2.mad()  \n",
    "    \n",
    "    X.loc[seg_id, 'f3_std'] = f3.std()\n",
    "    X.loc[seg_id, 'f3_var'] = f3.var()\n",
    "    X.loc[seg_id, 'f3_range'] = f3.ptp()\n",
    "    X.loc[seg_id, 'f3_iqrange'] = iqr(f3, rng=(25,75), interpolation='midpoint') \n",
    "    X.loc[seg_id, 'f3_mad'] = f3.mad() \n",
    "    \n",
    "#Common measures of the shape:\n",
    "\n",
    "    X.loc[seg_id, 'he_skew'] = skew(height)  \n",
    "    X.loc[seg_id, 'he_kurtosis'] = kurtosis(height) \n",
    "    \n",
    "    X.loc[seg_id, 'f0_skew'] = skew(f0)  \n",
    "    X.loc[seg_id, 'f0_kurtosis'] = kurtosis(f0) \n",
    "    \n",
    "    X.loc[seg_id, 'f1_skew'] = skew(f1)  \n",
    "    X.loc[seg_id, 'f1_kurtosis'] = kurtosis(f1) \n",
    "        \n",
    "    X.loc[seg_id, 'f2_skew'] = skew(f2)  \n",
    "    X.loc[seg_id, 'f2_kurtosis'] = kurtosis(f2) \n",
    "    \n",
    "    X.loc[seg_id, 'f3_skew'] = skew(f3)  \n",
    "    X.loc[seg_id, 'f3_kurtosis'] = kurtosis(f3) "
   ]
  },
  {
   "cell_type": "code",
   "execution_count": 341,
   "metadata": {},
   "outputs": [],
   "source": [
    "train_X = pd.DataFrame(index=range(segments), dtype=np.float64)\n",
    "train_y = pd.DataFrame(index=range(segments), dtype=np.float64, columns=['time_to_failure'])"
   ]
  },
  {
   "cell_type": "code",
   "execution_count": 342,
   "metadata": {},
   "outputs": [
    {
     "data": {
      "application/vnd.jupyter.widget-view+json": {
       "model_id": "1b7d0c3d1f08419590012bd28149aa13",
       "version_major": 2,
       "version_minor": 0
      },
      "text/plain": [
       "HBox(children=(IntProgress(value=0, max=4194), HTML(value='')))"
      ]
     },
     "metadata": {},
     "output_type": "display_data"
    },
    {
     "name": "stderr",
     "output_type": "stream",
     "text": [
      "C:\\Users\\Tareq Mufaddi\\Anaconda3\\lib\\site-packages\\ipykernel_launcher.py:24: ComplexWarning: Casting complex values to real discards the imaginary part\n"
     ]
    },
    {
     "name": "stdout",
     "output_type": "stream",
     "text": [
      "\n"
     ]
    }
   ],
   "source": [
    "from tqdm import tqdm_notebook\n",
    "\n",
    "for seg_id in tqdm_notebook(range(segments)):\n",
    "    seg = train_df.iloc[seg_id*rows:seg_id*rows+rows]\n",
    "    create_features_peaks(seg_id, seg, train_X)\n",
    "    train_y.loc[seg_id, 'time_to_failure'] = seg['time_to_failure'].values[-1]"
   ]
  },
  {
   "cell_type": "code",
   "execution_count": 343,
   "metadata": {},
   "outputs": [],
   "source": [
    "submission = pd.read_csv('../input/sample_submission.csv', index_col='seg_id')\n",
    "test_X = pd.DataFrame(columns=train_X.columns, dtype=np.float64, index=submission.index)"
   ]
  },
  {
   "cell_type": "code",
   "execution_count": 344,
   "metadata": {},
   "outputs": [
    {
     "data": {
      "application/vnd.jupyter.widget-view+json": {
       "model_id": "effb449beeae4edba4a9c5eb5d5e1d37",
       "version_major": 2,
       "version_minor": 0
      },
      "text/plain": [
       "HBox(children=(IntProgress(value=0, max=2624), HTML(value='')))"
      ]
     },
     "metadata": {},
     "output_type": "display_data"
    },
    {
     "name": "stderr",
     "output_type": "stream",
     "text": [
      "C:\\Users\\Tareq Mufaddi\\Anaconda3\\lib\\site-packages\\ipykernel_launcher.py:24: ComplexWarning: Casting complex values to real discards the imaginary part\n"
     ]
    },
    {
     "name": "stdout",
     "output_type": "stream",
     "text": [
      "\n"
     ]
    }
   ],
   "source": [
    "for seg_id in tqdm_notebook(test_X.index):\n",
    "    seg = pd.read_csv('../input/test/' + seg_id + '.csv')\n",
    "    create_features_peaks(seg_id, seg, test_X)"
   ]
  },
  {
   "cell_type": "code",
   "execution_count": 345,
   "metadata": {},
   "outputs": [],
   "source": [
    "from sklearn.preprocessing import StandardScaler\n",
    "\n",
    "scaler = StandardScaler()\n",
    "scaler.fit(train_X)\n",
    "scaled_train_X = pd.DataFrame(scaler.transform(train_X), columns=train_X.columns)\n",
    "scaled_test_X = pd.DataFrame(scaler.transform(test_X), columns=test_X.columns)"
   ]
  },
  {
   "cell_type": "code",
   "execution_count": 346,
   "metadata": {},
   "outputs": [],
   "source": [
    "from sklearn.model_selection import KFold\n",
    "\n",
    "n_fold = 5\n",
    "folds = KFold(n_splits=n_fold, shuffle=True, random_state=42)\n",
    "train_columns = train_X.columns.values"
   ]
  },
  {
   "cell_type": "code",
   "execution_count": 347,
   "metadata": {},
   "outputs": [],
   "source": [
    "params = {'num_leaves': 51,\n",
    "         'min_data_in_leaf': 10, \n",
    "         'objective':'regression',\n",
    "         'max_depth': -1,\n",
    "         'learning_rate': 0.001,\n",
    "         \"boosting\": \"gbdt\",\n",
    "         \"feature_fraction\": 0.91,\n",
    "         \"bagging_freq\": 1,\n",
    "         \"bagging_fraction\": 0.91,\n",
    "         \"bagging_seed\": 42,\n",
    "         \"metric\": 'mae',\n",
    "         \"lambda_l1\": 0.1,\n",
    "         \"verbosity\": -1,\n",
    "         \"nthread\": -1,\n",
    "         \"random_state\": 42}"
   ]
  },
  {
   "cell_type": "code",
   "execution_count": 348,
   "metadata": {},
   "outputs": [
    {
     "name": "stdout",
     "output_type": "stream",
     "text": [
      "fold 0\n",
      "Training until validation scores don't improve for 200 rounds.\n",
      "[1000]\ttraining's l1: 2.09868\tvalid_1's l1: 2.41163\n",
      "[2000]\ttraining's l1: 1.73393\tvalid_1's l1: 2.30707\n",
      "[3000]\ttraining's l1: 1.5084\tvalid_1's l1: 2.28656\n",
      "[4000]\ttraining's l1: 1.33261\tvalid_1's l1: 2.28248\n",
      "Early stopping, best iteration is:\n",
      "[3979]\ttraining's l1: 1.33601\tvalid_1's l1: 2.28238\n",
      "fold 1\n",
      "Training until validation scores don't improve for 200 rounds.\n",
      "[1000]\ttraining's l1: 2.09896\tvalid_1's l1: 2.38264\n",
      "[2000]\ttraining's l1: 1.73408\tvalid_1's l1: 2.27071\n",
      "[3000]\ttraining's l1: 1.50955\tvalid_1's l1: 2.24848\n",
      "Early stopping, best iteration is:\n",
      "[3367]\ttraining's l1: 1.44133\tvalid_1's l1: 2.24557\n",
      "fold 2\n",
      "Training until validation scores don't improve for 200 rounds.\n",
      "[1000]\ttraining's l1: 2.10478\tvalid_1's l1: 2.42062\n",
      "[2000]\ttraining's l1: 1.74703\tvalid_1's l1: 2.27827\n",
      "[3000]\ttraining's l1: 1.52222\tvalid_1's l1: 2.25227\n",
      "Early stopping, best iteration is:\n",
      "[3541]\ttraining's l1: 1.42172\tvalid_1's l1: 2.24899\n",
      "fold 3\n",
      "Training until validation scores don't improve for 200 rounds.\n",
      "[1000]\ttraining's l1: 2.12837\tvalid_1's l1: 2.26958\n",
      "[2000]\ttraining's l1: 1.75794\tvalid_1's l1: 2.15238\n",
      "[3000]\ttraining's l1: 1.53313\tvalid_1's l1: 2.1304\n",
      "[4000]\ttraining's l1: 1.35683\tvalid_1's l1: 2.12817\n",
      "[5000]\ttraining's l1: 1.20733\tvalid_1's l1: 2.1253\n",
      "Early stopping, best iteration is:\n",
      "[5545]\ttraining's l1: 1.1348\tvalid_1's l1: 2.12496\n",
      "fold 4\n",
      "Training until validation scores don't improve for 200 rounds.\n",
      "[1000]\ttraining's l1: 2.09988\tvalid_1's l1: 2.40388\n",
      "[2000]\ttraining's l1: 1.7426\tvalid_1's l1: 2.27257\n",
      "[3000]\ttraining's l1: 1.51928\tvalid_1's l1: 2.24294\n",
      "[4000]\ttraining's l1: 1.34461\tvalid_1's l1: 2.23446\n",
      "[5000]\ttraining's l1: 1.19517\tvalid_1's l1: 2.23148\n",
      "Early stopping, best iteration is:\n",
      "[5125]\ttraining's l1: 1.1781\tvalid_1's l1: 2.23103\n",
      "CV mean score: 2.2266, std: 0.0535.\n"
     ]
    },
    {
     "name": "stderr",
     "output_type": "stream",
     "text": [
      "C:\\Users\\Tareq Mufaddi\\Anaconda3\\lib\\site-packages\\scipy\\stats\\stats.py:1713: FutureWarning: Using a non-tuple sequence for multidimensional indexing is deprecated; use `arr[tuple(seq)]` instead of `arr[seq]`. In the future this will be interpreted as an array index, `arr[np.array(seq)]`, which will result either in an error or a different result.\n",
      "  return np.add.reduce(sorted[indexer] * weights, axis=axis) / sumval\n"
     ]
    },
    {
     "data": {
      "image/png": "[encoded data removed]",
      "text/plain": [
       "<Figure size 2160x2160 with 1 Axes>"
      ]
     },
     "metadata": {
      "needs_background": "light"
     },
     "output_type": "display_data"
    }
   ],
   "source": [
    "import lightgbm as lgb\n",
    "from sklearn.metrics import mean_absolute_error\n",
    "import seaborn as sns\n",
    "\n",
    "oof = np.zeros(len(scaled_train_X))\n",
    "predictions = np.zeros(len(scaled_test_X))\n",
    "scores = []\n",
    "feature_importance_df = pd.DataFrame()\n",
    "fold_importance = pd.DataFrame()\n",
    "#run model\n",
    "for fold_, (trn_idx, val_idx) in enumerate(folds.split(scaled_train_X,train_y.values)):\n",
    "    strLog = \"fold {}\".format(fold_)\n",
    "    print(strLog)\n",
    "    \n",
    "    X_tr, X_val = scaled_train_X.iloc[trn_idx], scaled_train_X.iloc[val_idx]\n",
    "    y_tr, y_val = train_y.iloc[trn_idx], train_y.iloc[val_idx]\n",
    "\n",
    "    model = lgb.LGBMRegressor(**params, n_estimators = 20000, n_jobs = -1)\n",
    "    model.fit(X_tr, y_tr, \n",
    "                    eval_set=[(X_tr, y_tr), (X_val, y_val)], eval_metric='mae',\n",
    "                    verbose=1000, early_stopping_rounds=200)\n",
    "    y_pred_valid = model.predict(X_val, num_iteration=model.best_iteration_)\n",
    "    oof[val_idx] = y_pred_valid.reshape(-1,)\n",
    "    scores.append(mean_absolute_error(y_val, y_pred_valid))\n",
    "\n",
    "    #feature importance\n",
    "    fold_importance_df = pd.DataFrame()\n",
    "    fold_importance_df[\"Feature\"] = train_columns\n",
    "    fold_importance_df[\"importance\"] = model.feature_importances_[:len(train_columns)]\n",
    "    fold_importance_df[\"fold\"] = fold_ + 1\n",
    "    feature_importance_df = pd.concat([feature_importance_df, fold_importance_df], axis=0)\n",
    "    #predictions\n",
    "    predictions += model.predict(scaled_test_X, num_iteration=model.best_iteration_) / folds.n_splits\n",
    "    \n",
    "print('CV mean score: {0:.4f}, std: {1:.4f}.'.format(np.mean(scores), np.std(scores)))\n",
    "    \n",
    "feature_importance_df[\"importance\"] /= fold_\n",
    "\n",
    "cols = feature_importance_df[[\"Feature\", \"importance\"]].groupby(\"Feature\").mean().sort_values(\n",
    "                by=\"importance\", ascending=False)[:70].index\n",
    "\n",
    "best_features = feature_importance_df.loc[feature_importance_df.Feature.isin(cols)]\n",
    "\n",
    "plt.figure(figsize=(30, 30));\n",
    "sns.barplot(x=\"importance\", y=\"Feature\", data=best_features.sort_values(by=\"importance\", ascending=False));\n",
    "plt.title('LGB Features (avg over folds)');"
   ]
  },
  {
   "cell_type": "code",
   "execution_count": 309,
   "metadata": {},
   "outputs": [],
   "source": [
    "submission.time_to_failure = predictions\n",
    "submission.to_csv('submission_peaks.csv',index=True)"
   ]
  },
  {
   "cell_type": "code",
   "execution_count": null,
   "metadata": {},
   "outputs": [],
   "source": []
  }
 ],
 "metadata": {
  "kernelspec": {
   "display_name": "Python 3",
   "language": "python",
   "name": "python3"
  },
  "language_info": {
   "codemirror_mode": {
    "name": "ipython",
    "version": 3
   },
   "file_extension": ".py",
   "mimetype": "text/x-python",
   "name": "python",
   "nbconvert_exporter": "python",
   "pygments_lexer": "ipython3",
   "version": "3.7.3"
  }
 },
 "nbformat": 4,
 "nbformat_minor": 2
}
